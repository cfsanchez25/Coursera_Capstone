{
    "nbformat_minor": 1, 
    "cells": [
        {
            "source": "# DS project IBM certification \n## <italic> Capstone Project </italic>\n### Author: Carlos Felipe S\u00e1nchez Rojas", 
            "cell_type": "markdown", 
            "metadata": {
                "collapsed": true
            }
        }, 
        {
            "source": "The following notebook uses public information to understand how Chicago, US rental places are over or under value according to the amenities offered and the criminality report.", 
            "cell_type": "markdown", 
            "metadata": {}
        }, 
        {
            "source": "## Introduction/Business Problem (A description of the problem and a discussion of the background.)", 
            "cell_type": "markdown", 
            "metadata": {}
        }, 
        {
            "source": "This projects pretends to compare the prices of house rental in Chicago v. the number and quality of the amenities offered in the houses who are posted for rental. Does the cost of paying an expensive rental compensates the accesibility it offers?\n\nChicago is a city with nearly 2.7 million inhabitants. Residents that educate, work and raise a family in a capital whose area is massive. The report will evaluate cost of living, amenities and crime data to evaluate the favorability to live in a particular neighborhood. ", 
            "cell_type": "markdown", 
            "metadata": {}
        }, 
        {
            "source": "## The Data", 
            "cell_type": "markdown", 
            "metadata": {}
        }, 
        {
            "source": "The data collected come from the Fourquare API, Wikipedia, Crime data in Chicago and public rental websites. ", 
            "cell_type": "markdown", 
            "metadata": {}
        }, 
        {
            "source": "", 
            "cell_type": "code", 
            "metadata": {}, 
            "outputs": [], 
            "execution_count": null
        }
    ], 
    "metadata": {
        "kernelspec": {
            "display_name": "Python 3.5", 
            "name": "python3", 
            "language": "python"
        }, 
        "language_info": {
            "mimetype": "text/x-python", 
            "nbconvert_exporter": "python", 
            "version": "3.5.5", 
            "name": "python", 
            "pygments_lexer": "ipython3", 
            "file_extension": ".py", 
            "codemirror_mode": {
                "version": 3, 
                "name": "ipython"
            }
        }
    }, 
    "nbformat": 4
}