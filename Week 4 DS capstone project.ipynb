{
    "nbformat_minor": 1, 
    "cells": [
        {
            "source": "# DS project IBM certification \n## <italic> Capstone Project </italic>\n### Author: Carlos Felipe S\u00e1nchez Rojas", 
            "cell_type": "markdown", 
            "metadata": {
                "collapsed": true
            }
        }, 
        {
            "source": "The following notebook uses public information to understand how Chicago, US rental places are over or under value according to the amenities offered and the criminality report.", 
            "cell_type": "markdown", 
            "metadata": {}
        }, 
        {
            "source": "## Introduction/Business Problem (A description of the problem and a discussion of the background.)", 
            "cell_type": "markdown", 
            "metadata": {}
        }, 
        {
            "source": "House prices are defined by the law of supply and demand, the more demand for a house the higer the price. Well, not exactly. House prices are attached to the land-prices. The price of a rental, and therefore the cost of living, depends upon how scarce is the avaiable land to construct in a single neighborhood. However, such statement is not completely true or proven. As we saw in the house bubble, house prices where driven by the cost of acquiring a mortgage or the economic dynamic of the country's economy. Hence, how we should evaluate if a cost of a rental is over or under priced in a micro level? If an real-state investor in Chicago pretends to buy, is there a way to leverage from data to advice his investment decision?\n\nThis projects pretends to do so by comparing the prices of house rental in Chicago v. the number and quality of the amenities offered in the houses who are posted for rental and the crime rate that occurs in a local lever. If he/she invests in a property, does it will return his/her investment is the cost of the investment worthy? Chicago is a city with nearly 2.7 million inhabitants. Residents that educate, work and raise a family in a capital whose area is massive. The report will evaluate cost of living, amenities and crime data to evaluate the favorability to live in a particular neighborhood.", 
            "cell_type": "markdown", 
            "metadata": {}
        }, 
        {
            "source": "## The Data (A description of the data and how it will be used to solve the problem. )", 
            "cell_type": "markdown", 
            "metadata": {}
        }, 
        {
            "source": "The data collected come from the Fourquare API, Wikipedia, Crime data in Chicago and public rental websites. Foursquare a location technology platform dedicated to improve how people move through the real world. As they share in their website (www.foursquare.com/about): \n\"We believe that the places you go say a lot about who you are. Our technology\u2019s unparalleled sense of place and space has allowed us to help the world's leading brands and advertisers unlock valuable insights about their consumers and their businesses.\" Although the platform truly delivers certified and massive information, we cannot get data of how safe are the neighborhoods where places are located. Additionally, we cannot get data from the house rentals in the neighborhood which is extremely important to identify the dynamics of the house prices. \n\nData structure of Fourquare\n\nData structure of crime data\n\nData structure of rental prices\n", 
            "cell_type": "markdown", 
            "metadata": {}
        }, 
        {
            "source": "", 
            "cell_type": "code", 
            "metadata": {}, 
            "outputs": [], 
            "execution_count": null
        }
    ], 
    "metadata": {
        "kernelspec": {
            "display_name": "Python 3.5", 
            "name": "python3", 
            "language": "python"
        }, 
        "language_info": {
            "mimetype": "text/x-python", 
            "nbconvert_exporter": "python", 
            "version": "3.5.5", 
            "name": "python", 
            "pygments_lexer": "ipython3", 
            "file_extension": ".py", 
            "codemirror_mode": {
                "version": 3, 
                "name": "ipython"
            }
        }
    }, 
    "nbformat": 4
}